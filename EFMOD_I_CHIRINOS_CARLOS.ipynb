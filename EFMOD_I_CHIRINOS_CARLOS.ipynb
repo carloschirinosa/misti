{
  "nbformat": 4,
  "nbformat_minor": 0,
  "metadata": {
    "colab": {
      "name": "EFMOD_I_CHIRINOS_CARLOS.ipynb",
      "provenance": [],
      "collapsed_sections": [],
      "authorship_tag": "ABX9TyNiSdfgDGiQfE/cyN7KR3W7",
      "include_colab_link": true
    },
    "kernelspec": {
      "name": "python3",
      "display_name": "Python 3"
    },
    "language_info": {
      "name": "python"
    }
  },
  "cells": [
    {
      "cell_type": "markdown",
      "metadata": {
        "id": "view-in-github",
        "colab_type": "text"
      },
      "source": [
        "<a href=\"https://colab.research.google.com/github/carloschirinosa/misti/blob/master/EFMOD_I_CHIRINOS_CARLOS.ipynb\" target=\"_parent\"><img src=\"https://colab.research.google.com/assets/colab-badge.svg\" alt=\"Open In Colab\"/></a>"
      ]
    },
    {
      "cell_type": "markdown",
      "metadata": {
        "id": "bJHtLJMhqUbC"
      },
      "source": [
        "**Examen Final   \n",
        "Viernes 12/11/2021**   \n",
        "Instrucciones:   \n",
        "a) Utiliza un cuaderno de Google Colab y lo nombra: EFMOD_I_APELLIDO_NOMBRE   \n",
        "b) Complemente con ejemplos si amerita el caso, se tomará en cuenta la originalidad   \n",
        "c) Responda 20 de las 25 preguntas   \n",
        "d) Valor por pregunta: 1 punto, Tiempo: Dos (2) horas   \n",
        "e) Envíe el correo a informes@entrenamientocertero.com \n",
        " \n"
      ]
    },
    {
      "cell_type": "markdown",
      "metadata": {
        "id": "qI2qmckbq3Br"
      },
      "source": [
        "# 1. ¿Cuál es la diferencia entre lista y tuplas en Python? \n"
      ]
    },
    {
      "cell_type": "markdown",
      "metadata": {
        "id": "MKWmValavA_a"
      },
      "source": [
        "Una lista no es lo mismo que una tupla. Ambas son un conjunto ordenado de valores, en donde este último puede ser cualquier objeto: un número, una cadena, una función, una clase, una instancia, etc. La diferencia es que las listas presentan una serie de funciones adicionales que permiten un amplio manejo de los valores que contienen. Basándonos en esta definición, puede decirse que las listas son dinámicas, mientras que las tuplas son estáticas.  \n",
        "Un lista tiene diversos métodos para trabajarla.   \n",
        "\n",
        "\n",
        "* append() Añade un ítem al final de la lista\n",
        "* clear() Vacía todos los ítems de una lista\n",
        "* extend() Une una lista a otra\n",
        "* count() Cuenta el número de veces que aparece un ítem\n",
        "* index() Devuelve el índice en el que aparece un ítem (error si no aparece)\n",
        "* insert() Agrega un ítem a la lista en un índice específico\n",
        "* pop() Extrae un ítem de la lista y lo borra\n",
        "* remove() Borra el primer ítem de la lista cuyo valor concuerde con el que indicamos\n",
        "* reverse() Le da la vuelta a la lista actual\n",
        "* sort() Ordena automáticamente los ítems de una lista por su valor de menor a mayor\n",
        "\n",
        "\n",
        "\n",
        "La tupla sólo tiene dos métodos (es estática, básicamente permite consultas):  \n",
        "\n",
        "*   t.count(x) : cuenta el número de veces que el elemento x está en la tupla t.\n",
        "*   t.index(x) : retorna el índice más pequeño del elemento x en la tupla t.\n",
        "\n"
      ]
    },
    {
      "cell_type": "code",
      "metadata": {
        "colab": {
          "base_uri": "https://localhost:8080/"
        },
        "id": "x-zrwy84tyf7",
        "outputId": "bdc00266-bb42-4b9c-bc2f-363ef6eb3bc8"
      },
      "source": [
        "# crear y agregar elementos a lista\n",
        "lista = [5, \"Hola mundo!\", (1, 2), True, -1.5, 27]\n",
        "lista.append(10)\n",
        "print(lista)"
      ],
      "execution_count": null,
      "outputs": [
        {
          "output_type": "stream",
          "name": "stdout",
          "text": [
            "[5, 'Hola mundo!', (1, 2), True, -1.5, 27, 10]\n"
          ]
        }
      ]
    },
    {
      "cell_type": "code",
      "metadata": {
        "colab": {
          "base_uri": "https://localhost:8080/"
        },
        "id": "-YBWUjpgzxZk",
        "outputId": "e33baaa9-d98e-465a-cc44-cfb4f34923d0"
      },
      "source": [
        "# crear y agregar elementos a tupla (artificio)\n",
        "tupla = (5, \"Hola mundo!\", (1, 2), True, -1.5, 27)\n",
        "L1=list(tupla)\n",
        "L1.append(10)\n",
        "tupla=tuple(L1)\n",
        "print(tupla)"
      ],
      "execution_count": null,
      "outputs": [
        {
          "output_type": "stream",
          "name": "stdout",
          "text": [
            "(5, 'Hola mundo!', (1, 2), True, -1.5, 27, 10)\n"
          ]
        }
      ]
    },
    {
      "cell_type": "markdown",
      "metadata": {
        "id": "kecmxyESq6WB"
      },
      "source": [
        "# 2. ¿Cuáles son las características principales de Python? \n"
      ]
    },
    {
      "cell_type": "markdown",
      "metadata": {
        "id": "Ita5QoIB1eHt"
      },
      "source": [
        "* Lenguaje de propósito general: No está orientado a un fin concreto.\n",
        "* Es multiparadigma: \n",
        "  programación orientada a objetos (es un lenguaje de alto nivel),  programación imperativa (con sentencias de bucle), programación funcional (con módulos y funciones)\n",
        "* Python es un lenguaje interpretado: no compilamos el código fuente a código máquina, sino que hay un intérprete que es el que ejecutará el programa basándose en el código directamente.\n",
        "* Es multiplataforma: Se han creado intérpretes para Unix, Linux, Windows y sistemas Mac Os.\n",
        "* Es de tipado dinámico: Cuando declaramos una variable, no es necesario decirle de que tipos son los datos (si es int, string, float, etc.). La variable se adapta a lo que escribimos cuando se ejecuta el programa.\n",
        "* De libre distribución.\n",
        "* Tiene soporte para múltiple variedad de bases de datos.\n",
        "* Tiene un gran soporte gracias a su comunidad. "
      ]
    },
    {
      "cell_type": "markdown",
      "metadata": {
        "id": "aORKiwihq8sK"
      },
      "source": [
        "# 3. ¿Qué tipo de lenguaje es Python? ¿Programación o scripting? \n"
      ]
    },
    {
      "cell_type": "markdown",
      "metadata": {
        "id": "ZzEUUAEjjrWL"
      },
      "source": [
        "Es un lenguaje de programación con reglas propias e independiente de otros lenguajes. No es un lenguaje de scripting porque no requiere de otro lenguaje para funcionar, como el javascript que trabaja junto a HTML."
      ]
    },
    {
      "cell_type": "markdown",
      "metadata": {
        "id": "HN5O5s3rq_Gp"
      },
      "source": [
        "# 4. ¿Cómo se interpreta Python? \n"
      ]
    },
    {
      "cell_type": "markdown",
      "metadata": {
        "id": "q-G2tqwVpqzq"
      },
      "source": [
        "El significado del nombre python proviene de la afición del creador Guido van Rossum por los humoristas británicos Monty Python.\n",
        "\n",
        "El interprete Python va ejecutando lineas de código según se hayan escrito en línea de comando o en bloque si se trata de un script (.py)."
      ]
    },
    {
      "cell_type": "markdown",
      "metadata": {
        "id": "wVapIXhwr00H"
      },
      "source": [
        "Ejemplo de ejecución por instrucción:  Ejecutamos python y escribimos instrucciones."
      ]
    },
    {
      "cell_type": "markdown",
      "metadata": {
        "id": "s2WXN475wizg"
      },
      "source": [
        "![image.png](data:image/png;base64,iVBORw0KGgoAAAANSUhEUgAAAxUAAACiCAYAAAA3OuBaAAAgAElEQVR4Ae2d769s13nXzx/g8weMXyBZKirJm1TpSQLXSnB+2K1psWPfG09uiu1ikovNdWJbkGkVwq9QkChSMRqVXwLRImiDWmimwG2RArwoFW+Gt0jIoBRCaCpQX9AK3oAWWmvtZ+9nr3nWjz175t45Zz5HOto/1q9nfZ/PWns9e++Zubh7d+FG/59duM/6/6XaLh93nw3/3fnlwi19erf1+8uX2v9femnhwv9nFu6lGf+fubNwpf87dxbO/3/mzuP9fzh3e+HuJP+3by9c0/+LC3db/lvLTMl3Z+Fuy39X7sXbC7ff/+Puxdv+f9/yupzUJVtv5+P2f2hT8j3uXnyx23/xcffCC4+7T/v/Ty/c8/7/+YV77rmF++E/vHBPP/373Ntvv32Y//v33Fs/8gH3pduLyf9vvfapYMNbr/yByWX79u6+z719/95h+lLQ5Pk/dtf9nuc/Mvr/yN0f3G338590b7/6gfH/Gy/t5uvaev3FD7nF4hn3cqFt76u2fC+7ZxYL96EXXw/tfeH5D7rF4il394vR1/fvPOkWiyfdnTf88evuhQ8v3OLpl6Nt95fuY4uF+9hL97O2amZeffb9bvG+Z92rnd0vP71wiw+/4F7P9uNV9+z7Fu6JH3i1qf72Pnccv/KMe2Lxfvfsj07k+t4L7kOLhXvm5Vy5saberp2+dnUsFgs3/H+P++BHf8jdfX1cb1p2169fdHc//oRbvO+T7uU333Zvp/b96LPu/c39vO+WH124xUeX7r7llzdec3eff8p93xMLt/i9T7o798a2an/3+6/fcb9/Aid9Od/+G3fck4uFe/KH7rq7n1P/zz/lvnfxQffc53X7UfdBT6/tE+57P/KMu/NHx4zuaqjredu9PZPtUR/euu9e+9xz7qkPPOEWi+9xT96JY22UR7R++Rm3WHzIvdDpGnz/RGasf/45932Kw/FYVdrdkb534/fjd90Xpb1uO9Yjn8/bHPN+zC3vJ5oldZr9a8jz5ptvupdeesm98sorO+Pen/NpPs++9VPuOH5D19PX9cLxhwIogAIogAIogAIogAIogAIzFCComCEeRVEABVAABVAABVAABVAABZwjqIACFEABFEABFEABFEABFECBWQoQVMySj8IogAIogAIogAIogAIogAIEFTCAAiiAAiiAAiiAAiiAAigwSwGCilnyURgFUAAFUAAFUAAFUAAFUICgAgZQAAVQAAVQAAVQAAVQAAVmKVANKi6+snX7/M+yisIogAIogAIogAIogAIogALXRgGCimvjKgxFARRAARRAARRAARRAgdNUoBpUfOELX3Cf+MQnJv37MvyhAAqgAAqgAAqgAAqgAAqchwLNQcX3/+3vd/JfCzLKQcUDd+/iwl30/7fcu+9NFdvXsU+51nbec+/eGmy896BQ7sE9d3Fxz42yhHOx/K1C595795a7UJU/uCdt7vYt5L31rstLVdDkvXfdrYxevs2SjYWek4QCKIACKIACKIACKIACQYHmoCIXSLz55T/t/viP/4S7t/pa/zSjHlQMi+b6YtnbmS6Y0+NDe/OBeyBRQliQJ0FDaK4LPO7dc/dGQYW3TfIX7PT1qiChvLj39Vy4C5V/t8eFtkaZ03y+H4M/Rlk5QAEUQAEUQAEUQAEUQIEGBZqDCnlKobc/96vfdMv1r7kf+Mv/0n3iL/yyu//XvxECiylBxW7AYFmdLoTTY6vMoc75tiRIsOpM0v1TCvX0wQdN1pOA8fkH7l4hYPB57707DkJ2LWnVxMiX2LxbN2dQAAVQAAVQAAVQAAVQIK9Ac1BhPan48s//e3f7p/61++TX/pn72Ff/ibu1+jn31b/6N91+QUW886/W4875xe6tW+5W/6rURbdg7xbGD/xrPcZrRuHpgrxKdOGGOrty7/pXloxylk7VBbevcwg6xsGCf8gyDjJiE8nTgZDHP/HobNYBhu+L70DyZGPX1JImXdp7fjvo0gc/1bp3W+MMCqAACqAACqAACqAACogCzUGFfkLxw5/7Efflf/Dr7vZf+zfuU1/75+4PfvWfuid/7Ofdh9/5Gffd//KP3P/+ra9L/cZWFrgxyS/C+9d6kgW4fyUoBgTjMvHphnodyJfrF/Zx4dwHEiHAkNd7ukW1JI7KjU0NdvkFuOQdJ6sjX+fUoGJcJgQe6jMPw6tQKvioLvy7vklAstNvrYHsSzcSe+Q0WxRAARRAARRAARRAARRoUKA5qJAnFXfv3nWf/el/6579K990n/qL/8I99Wd+yT35Y193H3nnZ91rP/m33P/77lec+823nPudb2aa7xa//R3zYUEegwU51q8E+TJ6IVw4DotpqSOaUA5OdL2GySHwKOUZL8jbnlSMy+w8zeiCq1FdOqgIfZQnDtLXVBP/kMQKynbzOaeCF0MCTqEACqAACqAACqAACqBASYHJQcU777zj/tBP/iv39E88cE/92W+4P/V3vu5+6h9/3f30L/5MDCi+86Zz//U15377FzLtWovaIasspGUbU9IyheNDBxXhDSZZnA92DnveFlnY777uNO6HlCqXiUGGeh2qD8DU0xmpqt+mmujXyXSa3pfCiT1ymi0KoAAKoAAKoAAKoAAKNCiwV1DxzF/6FffxP/cN93d/+e87990/Gf9/8x3n/tvrzv3GK8795zvO/c9/mGneWtSqrOGO/D13b/SNRGmZ0rFPU0HAKMgolVM2PHigviJWl9H7kt+fU0FFsT0pkz4Z0PXqYEDyu8bPVKivh83aodvq6g+al76uVtnBLgqgAAqgAAqgAAqgAAokCjQFFf6D1/r/F3/tP7iPfuUX3P/6zrsxoPjvX3Lu25937lufc+69Tzv3rded+7+/kzQlh8aiVpK6rX9tJ/0sQzjXf8YhrSM5DgtqeT1Iv7qU5Nv5qtrOgFF5FaCY+X2dKqjwVYRXpmL7uY9k7DzB0G1ahaoL/9i3e/du9R9CH6oZ93us5e7TlcQdHKIACqAACqAACqAACqBAUYFqUFEs/dt/w7nv/Annvv2Gc9/58859+8ed+z/5n2cr1qUSh88CqJM3bbcaJDysDqdPTR5Wu7SDAiiAAiiAAiiAAihwUxSYF1T87q879xt/xLn/9KJz//EHnfvWlwpPKBolO5nFdqO9M7L5pxXpE5kZ1e1V1HoqtFdFFEIBFEABFEABFEABFDhbBeYFFV623/13zv2Pn3Xut/7ezIAifpbgYvQtT2frFzqOAiiAAiiAAiiAAiiAAtdGgflBxbXpKoaiAAqgAAqgAAqgAAqgAAocQwGCimOoSp0ogAIogAIogAIogAIocEYKEFSckbPpKgqgAAqgAAqgAAqgAAocQwGCimOoSp0ogAIogAIogAIogAIocEYKEFSckbPpKgqgAAqgAAqgAAqgAAocQwGCimOoSp0ogAIogAIogAIogAIocEYKEFSckbPpKgqgAAqgAAqgAAqgAAocQwGCimOoSp0ogAIogAIogAIogAIocEYKXDz22GOOfzSAARiAARiAARiAARiAARjYlwGCCoIqgkoYgAEYgAEYgAEYgAEYmMUAQQUAzQJo32iWctwJgQEYgAEYgAEYgIGbw8BRg4rLyyu32mzdennJwvUhBC+XVyu32azc1eXp6r1cb91mdQUPjz3mTml8BHa2W7ft/vHRzZnkuWAfz5dxDG/c6mr/OfdqtenH3fbE529YamepdX6XfMf2/XVYH6R81cZXr901vm71fbghY//CL/plIRG3a7ecuCjNLRRFrEcZVHjbdP/2WSxJP7ZbW5tRG3uAMbe8H4iXl0u33toBXM4/6QA+9nFcuNoa5toeabPdLyA5Vf+JXS3jo1/0J3xJHT3j66UZsOXK19gZLXiMibu1/Zx/a+d36s+MwVI9D4P/kr4l22Tciv+s+Wk0Bnb8H8d9qfyg4bSxV7Jbp5XqH9K6eTjDp64v3S/13+etpaf1pceDjbv6pP7ZbncDiMvl2uWuDWlb1nEYY4Yu0rZmIo7HwYbB9uE6p/P79qJ9+XTLpkOeG2y09I03HoXfbaKDaCDpO33rblxKelq+pR+DfVGjtI2gob9h5+e/ZPyV6pd6a/O75MvVfYj5S3S0bMnNXVJG66H568t114Xgg8R/QbvER7o+0a+vy9C3dXwdQiex52Fua/4v2TKa+4z1kfhQxoelfan+fdJCUKFBi0buDv5S5Tlnili6/lI9x04TgafYE4HeuNXKvnAEvbqBIP2dMrHNLS+a5Xzg00tpUv5hbP2ENAfqm+Y/4aXGY59vvR5d1OS8aJoei0/l/Dop36eHC6Y95ks+k3pr7Us7U7dSvx5P4aJmXHhKdR+bf7Ezp2/NNvF/vLAOC0ZfrjY/+PRS+dr8VbKtJa1Uv+gyh4+W/stiTNrTvNT6MMV+X1eOv3DeWFDV2u/rNMoGHjab/ulz7J8/joxIf0Vfq61gVxIIXa3Ws56sWO3kzk3R1+pPie80f3qcs0mfl8WsjCGdJvtS79Tx3Zeb+aaG16DkY7GztC3V4RnZrJZu1XEl9VT5S64b0l8Zj76eQ+nbMr5KfZQ+3eSttT4qjZ9jabETVEQIukkrQDO+yOn0OGENd0AkGpJJXSBbL/XdiKS+JIrVd3yG8vpu3Lj8VGGmgBfbj4utODmOF17RiWN7tD412+aWl/pjm2PbfFrNP1Lea9L7LrkTLD4Y0mNemYStdEmT+v22ta81/a6j/3qNksWwnC+Nj96Pvqy/I6rqsPweOFV5SuXFP1Y9khYvOPbralY5q32pa+rWHnO7r1TGfAPDcgFu5X+qXWn+0I7hnzRf7Vh4EPtbx4zUu1vea5Wfv6TcvtvYXr7+Vj7Ebs22t6nW/1q69Ctff1mfWP8QtAWbkoXU0Ia/Ro2vBZJW2wZ+skHFyq3WsV6v51ot/iz7dFu1dJ3X2o/+G/fJOmeV9ecOxYfUL37sx4fhi6nzT8v1ZN/xLfaW5vfRHJUwMEqrPA0QjaytNQ4l32DjZVgviLY+PZTbFPiz9E/WjIfS1xrr0gfZtrQleWUr/R/WN8M6StLWy/3Wn7lxre0c+Tjx/z7t67qlj7KV+rSPJe2Q23JQ0S34tRGWULmOSCe8w2ShqctL+k793aJI0vUjZ11+qhClwVWry1zgJI+9Y/3jRXep3rTOqeWl7pomOf/48r6s+MYf+7z64h6OO9jFHzv+SgaD2KW3lo3Z+pJFsdRzXf0n/dS6+j7159X4sJnoFhVpUJHwF+pMJvqomV0++ERfrPr9YWL1ebS/xRehrYb2df6p+xYzvg7Nc9RrvPBJ29H507S5xyV9p9adLgJtFvLzS1pet5/WpdMOsW/Vb55L+PRt9+MgGfdp+XR+rKVLv3L1S3qwwWDZn49jpBs/3SumufGwL2c5zkN/u2DVtxmfMIyD6jA/q/lj1CdDa51e2xfddH+DrYmfavX49NRX2XMFm1O+zToL5VM7+4VqeAtBbkqM55I541v00+sfy2ZvV44Bn7YvV9LfUt2xf+rGgPJtjT9dVtqSPntmDq1vTYdautgoW22rnNN8S/q+68/ga6WntOHt1Gsuf97y0dT2LX9Im36bjh+ddsj9naDCd1gvfrQw0slUkJwzrfyj+owJoAfx6rK/2Oj2dPlWIUKfugWTniBby/t8od30Lr4s8kI//KTkJ6TxpF9qo+/LnuWDXUbgl7aZ80+aL9Qnfbq09U/hD8eJLmm9FgeSxxrE2t8+3031n6WL5l/6Lsz2vHSfeUonCalPP+3Tvk/Liw9Kk1H0r1xwk7kh+RyP1b60sc82+N0IWHWf9H6ujZY8ubK187runL61OiTd12XOvY3zQ1pe6vXbYFtlnOr8U/et+lv4LLXT65npfy29VHeaZtkveWJaPpiTfHouk3Mt21DO4Lzvnx9nm7Vbr/2XcOxeX7R98paAb7fUpxa7fB7dJxnf6fzcUpdly1Q+Ur6nlk/tlPIlzeaMb0uv2OY4cOl1NhjwadqGtA+1Y7FBriFpfs1ealuNP+u6ods7tL6axbQf/niqTrb9wxNH6YvmfdCk/sUMof4uqPC2x0Brd/x627UfpG+t7Ydx0bC+DfmMIEfaO9Q2BBXDo5+t0wPMN6JB0yJpA3LOrIliOUiX0fvSnlVG0lq2QdjM4C2VD+0mF+V4ToKJCJllc67eueV9vS3t5fwTyvcXbHvhqPWSttIJKgwIucttaFvyWeSru1MSbBnuklu6aXus9Ny5U/Sf6DmatMJCvbszqgK84KvkOJwb+W/jVkv/gcLMnSej/FBHWXfRNeivJqY4MQs74/alzL5ba6L1dQnPln5WW5LfSptzLuU6PZ5SdxxD48VGZLZtfrHK6/Yt/nX63P1c/XP4qPW/lj6lTzn7A+8ynrogOr1GSjuhDjU25Hxtm+M81NfNp8Jwifl+EdfZkOtTzR6dPnV+1mX1fs6WVj5yfLeW17bIvl7bWOdSf6bHUia3tXxltenL5xjwaeL7XDul85YNkt9K022F/hb4i9qPrxtSZ1xADwv0oc3hXKpneixlZFtL17ZLmdLWqk/s99dkvS/1WGUkLd0OY+fKrdb6psB4nvflLP/v077XwJqfcuMntfkQxztPKqxKxVnesHRB6fNLelq2JooNpYIud1dmj4lbbJsChZTx21AuDSq6Bd1oURjO7UKj65J9mRD3LR/smvGkQvyjfZrqEyCVgMFvjaCh709nS5onx4eU8+lhEPtFb6H+0N/Mwljqym1P0X+i/8j/KqjY0V75QZfRfQ79VBeC0Q2DTHlrHOo69b6l4056xYc6f2k/ZdHnjRN1x0sD+75Mjb+SDaW0ffxj1Zeb8Fvnh1x53VbNbzrvPvut9Yd8jXzU+l9Ln9IPy/5Y/3gut85JO8EPjX2TMn6bK5fTSuZLXYfsa/v0WJH0fbbSXs6eljotfa1yVhstfEtdVnlJS7eWPvFc9Pnc8V2b37U9OQZ8Hm+HvkbrcrV9scEqL+Nn5xqhg1KD554H4yZgjb85+pY02kenaGsaFB1u/Rn7unbL8FmoK7cMn43y9Y/b9LZbfRPf6Wt94Luw/rXSp4yfGk8t6U1BhYCy6T70l1YcjDY6WhNF0jXwYSAL1AcOKqS9dOEqk4t+bSTtY3CWAYO215cJx8lALNXfUj61JT22gNR58v7xgA/v9/V29vrbA0DXne6ntlgDNy0jF4I46PKPFa+r/3q7kzEi5/WkYfEjelkThqT5bY5RyZMr3+KjUH8maBzVb4yRnisjTcpaWymXmx98mcBbpd4c/1abc87l9C3VGX02Xrjq/LX5oVZe6or5di9mPl10Ls1/Uk9uW6pfyuTyyDjQr35JmVr/a+m+nlL90o5lm+ii+bPySR3eFp1Xzte26Zwp+XPnS+2krAd9kg+QT/32p9Dn9bJbFO3Oz6JTiZ+SbtJfK088lx8fUtZvrfI63dpP+Un102VC/ckcrtPTfeGuZX7P+drXWbIpbdM6ztVt9UfWev53V3LlhL/0utFzoNY/h9RX2rX66M/V0tNy4h89ZrW9kq79Z2mW1ivHsfzGrdfxc6u+7Ga97r/NTfL5raX11PYlv17fBnuT8a/bPcZ+W1BRW0xIutwJ7aCSTpac0oMoZdWgbSlfEkXK60hcAyRlBxt2L7oBMrGt3w75dtpQA6ql/pbyUk9umw7uNF+pjQhd8vqK8kGAve93ly/xr9Y3XRhYgyVrn2rX59mx2/ge5pgvBkfWRe0U/Nf3o6F/ekLY0cl4SjPqX1J/S/mgn3HHKeoa3//U/k3HT2v7MV/b4kDbPYzNjj2jjymjqY29/sKxMUZ1m/vuT7ngRH2FWxl/sm2bX3a0kf6pIGvkHyNd+rqvf2r1j9IN30UdOs6M9Jrvaum1+kf2GfrEuVX84rc2w9EXdpponNvm5sjceW+zZ3zXtvFncqS92viQfLltr7HhH19m4HDgVuqq6TtKT+of6tX6+/2hnVJ5saG07fsmvk9s0GWnj+/d+VPP7zttiw3J/LSTL0nXNlr7ufWBcKTLSFuer33402s9X6/U119D9tS3ZXxZ/dF9s/Z3GFP2ie26T1MZiHxGXvu2Susnz0CSnmtf7Ou1TdZHfXvCVb8dxo+lydxzTb+oLcbrzs1tmPLtv8zZotU+A6pWb5yMxhdKAbWFhZh3XL7WJumH5eJU9IwLm+NOZqfS1+toB/6ZN+5yC7AWFuaUbamfPPN8exP0O8b64GHq0jJGrnsfH6aex2yrKagIDlUR3DENou79JsApi/1WjeNTjHFQYAUarfWRbz/fXmfdhrupBBSn6Ef8M39Mxnlyf75bFkynyA42zWfnYWl4jPXBQ7PdP6FXT6dy7RJUnAaPxaAiTHbhkcn+E2YOAM4fHoCwQDhw8DcwII+gx0EGfjy8H9EUTWHgejAQn+LPmxNHc+yB5284uh4cPQw/HWN9cGy7a+NL3qKRV4DSV1+PbR/1746vYlCBYLuCoQmawAAMwAAMwAAMwAAMwMCYAYKKx8aCAAh6wAAMwAAMwAAMwAAMwMA0BggqCCocg2baoEEv9IIBGIABGIABGICBMQMnH1TIBwn9tw2lHxyW9+lavoko5/jR+6wTv6rN11myL9fmlPPHrn+KLfvmFT+lXzdbq0/KzfHvsfU7dv01jdJ06yvvRMep+qd1W8en1v/Uxpp9LeP/mPql9h76uNb/1vakHt5dHl9AvX6H4OM663uI/rdySL5d/tAETU6JgYtN/9218kFcv533wbNDdlAm22MFFWJrWFwQVBzlqcW+Fx0pVwsqSt/6UOJHfD9ne+z6p9q2T1BR0q/W/qn1P7W31b7S+BcOjxGUpfYe+ri1/6V2r/M3x5T6dai0uXycur61+WFu/w/lB+phcQ0Dj56B/klFbeJ4VM6KF8UY5Oh9b49MZrVFZ4vtpUVFqby2Se+XykxJ03Xq/Sl1XNe8rf4tsas10/uH0kTXqfcPVf/UeqygolZHSb9aWd1nvV8r97DStU16P21/3/Gf1nNqx7rPen+KnbEc3wA4RbMpeU9d3znzwxQdyPvoF4T4AB/MZaAYVFgXIX1uWPTpX4bdfcrhJyV5bH7Iu31D+/qXK/dr31pUDPWX+zfXCXPLx9fCBo3116pJH3r91fc9S9p6afdP+1psTM953fpf3+yeeun2g67yNMx4EiQ2DPbFfoQnU90vta+Xtn9HdUsbfmu0I/Y/im3JPzX9vL218TNK9/1XX0s50ijRZZSW0c/yzyGCePHDbv3jxWuLPlLXnG3QItHH1zfSyEj3eUr+9ekj/yjfSN9z4y/U3Y0BPT5S/XP1+/KH+I9jfuwXqVf6MNg3zjfHf0HX9cqtNjInyDw1zPGHaH+OfiU+xLaSf4OPM79oH9J2/N+ub4t+vo1R/9X1YdS3zPwwymOMD9HA4kPSavoIa2wPM57RER2PyUA5qOgmtJ1FYjd5yKTgJwy50IVJRl04w4SlJpv0eE7nsu0X2su1H+xW5bxd2fpV/+bYf4iycUEzXGR1nWL/jv86+yU95z9J3ymvdOovKlJnuEDu2mPp623V/kjbk+Md+1T7Uoe2UWvwqPdL/vG21fTT+khfddCUpof2DD5z+kudOf1K5eZqK/7VbYf2lP01febaIOVr/cyl1/yb+kcfS//166ZpO+mx2CtbXZ8/lx5Lvn22oW29mOz348JW7D+W/6K28doS+hVey403GPRNhzntp3qlx626WX4SfXL+Pba+Nf1837wNcu32x6H/avzJOa2xpUmp/7psyCfXij5gGq4XVj1We5xjYQwDp8lAMajwTtOLFJkkZRJKj0P+S383KU4S8V3RYcII6YW7MlMhMdv3v77YT1qDLVJ37q6bNZmZ9av+SZ2PcusvAnrS1rZYfdU+aelfyf++LX2R8Me6fm1Lq746n2mf8q/UX9JA8jyqbc22kn6WltqnZrqhj++71jXVomRjKKfuXqZl5xzrvkg9aZ9K+kiZQ2xL+vj6c+kl7dK++Hp0n1v4Lulfq/8QuqQ26zp1X+R8atMc/+m5R/QXzfycN7f91NZSX6V/ua3Yp9PFVrlehvqN8Wn1I+Q1rpWpzSV9a/ppW2Vfl5FzJcYlj9n/iv2t+kgbbE9zEYlf8ItmoB5UqEV0mPzUXQxzUkjz93e3htdz9J0bbczUfbN9NWnHyVq3K/vjQMe3a06K3Z2U0UVB9W+qvYfOb/Vft2FdIHQZvS/l0ouWPk7978tYukldepvL5y9Ycudd7JEgSY5H+iv/Sv0tFz3J+zC3lv1p+zldfL4avzF9/DqE5XNfV6mdmn6hrIzj5ClR2p8px5atqWYlu6e0Vctba8dKT21N26j6z5pfDL5z+tfqT+3Z99jizNd1bP/p+kV/0TwEFYZWki5zhpSz+n5I/ax2UluymhmL72zehBmrXelrTb/QRmhbrovdVl3jfZ7a/ODzWHbo9nublP2t+khZtixeYeD0GagGFd6JMqn4iUMWfP68OSmoCVIvSI8Bg9m+utBMad+cFNUEKPbnLrCS/jC30n/tE92+ZavWRMrLBdiXtcrk/O/zW7ppG2Q/l8/XPbxvOwQYwRZLf+VfqVvsk+NT2Yq+Of94O3O6+DTtK6tPlq9CfcmioNZOq37SHwkCLZumnLPsT/tc0mdKW7W8tXasdNEj59+0L6kNUn40/gy+pZzkF/1r9Uu5uVvLT75O63xqk6Vbqz16USr1iAZe87ntp7a22mXlE/t0mtha86/VD1+PdT612WpXbKjq182vml9dRuppmR8sO2r2t+ojdrA9/QUlPsJHTUFFnBw2brNJ7ooai76wSFR3M9PjQ0LXMim1tm9Oig39a+lPvBD4xfNYv5aytTzB7ky9oo++aAQ9+tfDhveTpR1Lr5z/fRlLN6lLb618UZe8JmJ/7aIc6jYW0rr90v6j8o+3ydJF22r5Q9JFH/FvWBD4JwqGFqV2puhXqkfsat2m9vtymk9/fMj2SnbV2s3uAFUAAA9ZSURBVMmlh/OZ8df3R82H2gbpf41vXSa1o8SHLjdn31oc+vrEfuHPnzuk//QCV/qt29T70r+p7R9KP7FP7ND61Px7LH3r+sUPvot9/TyYzB+hb8k53U+/X+p/jg/xn7QfNDOC6t6uwjhL7eGYxS0MPBoG2oKKbnEtd8jEWTIp5O40+3wteaS+qVupuzQpSR7LRjPNL8q6RYCZnlkg1GwPF68j/f5HmNDl9ZTt+DMWw4S8+2i7tX99PqPv1sVEtOjLKduCH1Q9qe06XcqX/Ovbkny9j1X9Yktt+6j8U9LP7JviM6Tr1xf8hV9dlHd0ET8k+uzk69J3zvvylcVFTec0vcSnz1vTJ61vyrHZP6VvLV3aShnWiyizjkTfHN9m2UR/M0/iX7Fz321u0evrO6b/aoviQ7Q/Rz+zrMFPzr/ij2Pp26Sfny9kXvDXp+XKbWqMJfwO5btrjOKvxIfoV9UnvHJ8nJty4gO2j2YBiu43T/c+qCg51xr8Pn/ufKmu65R2yP7FhUf+rvyj0KW1f635pvYhXkzHn2+Ri5C+0Eytd5/8p+ifffpBmZs3SeNTfAoDMAADMHAdGGgKKsKCK7l74Tt3rMXmqQh3iP7FhfNp3mVp7V/O/3P9FO6kJU9vrEBjbjul8qfsn5LdpHGBgQEYgAEYgAEYOCUGikFFvHubXxC3LkpPqcNTbDn3/tX8P0XLXN6hje7ReRJk5MpxnokUBmAABmAABmAABk6HgWJQgaNOx1H4Al/AAAzAAAzAAAzAAAycKgMEFY8B56nCiV2wCQMwAAMwAAMwAAPXgwGCCoIKx2C9HoMVP+EnGIABGIABGICBU2WAoIKggqACBmAABmAABmAABmAABmYxcCOCCvlAtfXjcvIVpfJd2vo75E810sMu7kLAAAzAAAzAAAzAAAxcJwYu9A/kWIbPTbfqPOS5/mtJV/5HfHZ/B8L/qJn85sHD/rrSQ/aTuphYYAAGYAAGYAAGYAAGTpWB8KQi/prw7oJcjJ6bLvXktrF++UrRvB1p+fiEIuaPwUW5rDzR4GkFAzJliWOYgAEYgAEYgAEYgIH9Gehff4q/FzD+dWMt7Nx0XZfe9/XKkwR/PgQYxg/t6TLWfltQsXTr7fDkwqqHc/vDhHZoBwMwAAMwAAMwAAPnyUAfVHgA4sI8v+iem94CWWijCyrSz0PI5yK2RtDRElTsG7C02E2e8xxA+B2/wwAMwAAMwAAMwMBjbhxUXK3cZrt11qLdixU/k7B/uiV4X6dvV/6NoMEqq8/VgorakxZdF/tMDjAAAzAAAzAAAzAAAzDQzkAfVNQW3XPTLadYn3E4xpOKmu2WbZxrhwit0AoGYAAGYAAGYAAGzpuBEFTM/SB2rXwOMnm9ST5TIce5JyW5evz53JOKeD7/WZFSnaSd9+DA//gfBmAABmAABmAABtoYeORfKRsX/fLq08atliu3mfD6UwxopLxsu2+EuowfzO5fq5LXq4yvngWYNmDQCZ1gAAZgAAZgAAZgAAZSBvrXn9IEjoEFBmAABmAABmAABmAABmCghQGCCn6SfdZPsrdARh4mIxiAARiAARiAARi42QwQVBBUEFTAAAzAAAzAAAzAAAzAwCwGCCoAaBZA3HW42Xcd8C/+hQEYgAEYgAEYaGGAoIKggqACBmAABmAABmAABmAABmYxQFABQLMAaolcycMdDhiAARiAARiAARi42Qw80qBCfvxOfqcC2G42bPgX/8IADMAADMAADMDAzWTgRgQVEpxsjd+fSH/HYrO64s48T2dgAAZgAAZgAAZgAAZg4IAMPNIfv5NgYM6Tiv4Xs1drZwUVOhqWX+ye056uj/2bGWnjV/wKAzAAAzAAAzAAA9MYCE8q4t38+CvUloBz0606/bkhqLhyq438GvbGra4umyLHWL779exlPajwbfq+8LRiGiQ5/3EeHWEABmAABmAABmAABjwD/etPV6uN227zC/q56RZwElRst1snTw/ik4d8gGPV48+1lLu8WrmN8YpUrk7OM0hgAAZgAAZgAAZgAAZgoM5AH1R4seLCfFjgpwLOTd+p7zI+oZCAIthwuXTrLriR15V80DH636zc1eX4aUYpqNCfq+ApRR2K1E8coxkMwAAMwAAMwAAMwECJgXFQEe7kb93WWLT7SuKd/v3TU0PkSUUuqEjzl45LQYUuFwKM9bLp9Spdjn0GEgzAAAzAAAzAAAzAAAzYDPRBxdzXm2rlLQfUgopDPanQbYfgIxM06Xzs28CgC7rAAAzAAAzAAAzAAAykDISgYu4HsWvl00bl2Aoq9n2S0PKkQtrb8qSCJzUH/Ao14ZktEywMwAAMwAAMwMC5MnASXyk7+rzExAV/DGiSz1x0H8bugwj1mQw+U8FgP9fBTr9hHwZgAAZgAAZg4FgM9K8/HasB6gVeGIABGIABGIABGIABGLjZDBBU8BoMr0LBAAzAAAzAAAzAAAzAwCwGCCoAaBZA3HW42Xcd8C/+hQEYgAEYgAEYaGGAoIKggqACBmAABmAABmAABmAABmYxQFABQLMAaolcycMdDhiAARiAARiAARi42QwQVBBUEFTAAAzAAAzAAAzAAAzAwCwGrnVQIV8Zq3+Rmyj4ZkfB+Bf/wgAMwAAMwAAMwMDpMUBQQVQ6KyplUJ/eoMYn+AQGYAAGYAAGYOBhM/BIf/xubmd5UsGAmcsQ5WEIBmAABmAABmAABuYzEJ5UxF+lXrvl5aV513pues1R41/Ftu3wedJfwx6Ciiu32sivam/c6sruR80O0ucDhYZoCAMwAAMwAAMwAAPnx0D/+tPVauO22/yCfG56Di5fr/5MRAgwNit3lQQ4paBiu932dVwu1267tQOTnA2cPz/w8Tk+hwEYgAEYgAEYgIHDMdAHFV7UuCAfFuip0HPT0/qs49DGxKBCByWXl0u3LgRHVpucOxxQaImWMAADMAADMAADMHB+DIyDiquV22y3bmss6j0clzPTLcD6On278t+1L0FMf17SuycTw+tPw+tOBBXnB7HFFefgAAZgAAZgAAZgAAYeHgN9UDH39aZaecupEhToz0rwpOLhOd/yCefQHwZgAAZgAAZgAAZgYCoDIaiIH5TOfw5hbnrOqPhUYXjdSo6tJyWlz1To15+Creul+YHznB2cZ+DAAAzAAAzAAAzAAAzAwP4MPPKvlB2/4rRxq+XKbYzXr0pBxej1KAIKAip+ewQGYAAGYAAGYAAGYOChMtC//kRktn9khnZoBwMwAAMwAAMwAAMwcM4MEFQQxT7UKPacBxt952IDAzAAAzAAAzBwUxkgqCCoIKiAARiAARiAARiAARiAgVkMEFQA0CyAbmq0Tb+4kwQDMAADMAADMAAD7QwQVBBUEFTAAAzAAAzAAAzAAAzAwCwGCCoAaBZARPDtETxaoRUMwAAMwAAMwMBNZYCggqCCoAIGYAAGYAAGYAAGYAAGZjFw0f/g3Hbr/O896F+39pFU/KXsmCa/B5HmuakRF/3ibgIMwAAMwAAMwAAMwAAM1Bm48D8qJ79IfXm1cpvtxq2uLvtIxQcVBBF1IYENjWAABmAABmAABmAABs6VgdHrT5eXV261GT+tIKhgcJzr4KDfsA8DMAADMAADMAADbQwkQcXSrbfDkwsvIkFFm5AAh04wAAMwAAMwAAMwAAPnysAoqPCvQm03K3d1OX79ST5LEbZJ+rkKR7+ZNGAABmAABmAABmAABmAgMtAHFfED2ePPU1giWYGHlY9zDDIYgAEYgAEYgAEYgAEYOA8GQlDRGlB4KC6Xa7fdrt1SPc0AlvOABT/jZxiAARiAARiAARiAAYuBixgk1J9Q+MLyQe7tetl/O5RVKeeADQZgAAZgAAZgAAZgAAbOh4EL/8Hs0WcmwnF8EtEHESoPXy97PnAwEeBrGIABGIABGIABGICBFgb6z1S0ZCYPUMEADMAADMAADMAADMAADKQMEFTwk+y8ygYDMAADMAADMAADMAADsxggqACgWQClUSrH3LmAARiAARiAARiAgfNjgKCCoIKgAgZgAAZgAAZgAAZgAAZmMUBQAUCzAOJOxPndicDn+BwGYAAGYAAGYCBlgKCCoIKgAgZgAAZgAAZgAAZgAAZmMUBQAUCzAEqjVI65cwEDMAADMAADMAAD58cAQQVBBUEFDMAADMAADMAADMAADMxiIP6i9mblri4vzYrCL27PSCdSPb9IFZ/jcxiAARiAARiAARg4LwbCk4rl2v+qdvwVbQuAuelWnZw7L9DwN/6GARiAARiAARiAgZvLQP/609Vq47bbjVtd2U8s5qYD0c2FCN/iWxiAARiAARiAARg4bwb6oMKDEF512m7demkHFnPTge28YcP/+B8GYAAGYAAGYAAGbiYD46DiauU2263bZj5DcTkzHYhuJkT4Fb/CAAzAAAzAAAzAwHkz0AcVc19vqpUHtPMGDf/jfxiAARiAARiAARi4uQyEoGLuB7Fr5QHo5gKEb/EtDMAADMAADMAADMAAXynLdxKbXyXM5MDkAAMwAAMwAAMwAAMw0MpA//pTawHyARcMwAAMwAAMwAAMwAAMwIBmgKCCJxU8qYABGIABGIABGIABGICBWQwQVADQLIB0hMo+dyxgAAZgAAZgAAZg4DwZIKggqCCogAEYgAEYgAEYgAEYgIFZDBBUANAsgLgbcZ53I/A7focBGIABGIABGNAMEFQQVBBUwAAMwAAMwAAMwAAMwMAsBggqAGgWQDpCZZ87FjAAAzAAAzAAAzBwngwQVBBUEFTAAAzAAAzAAAzAAAzAwCwGCCoAaBZA3I04z7sR+B2/wwAMwAAMwAAMaAYIKggqCCpgAAZgAAZgAAZgAAZgYBYDBBUANAsgHaGyzx0LGIABGIABGIABGDhPBggqCCoIKmAABmAABmAABmAABmBgFgMEFQA0CyDuRpzn3Qj8jt9hAAZgAAZgAAY0AwQVBBUEFTAAAzAAAzAAAzAAAzAwiwGCCgCaBZCOUNnnjgUMwAAMwAAMwAAMnCcDBBUEFQQVMAADMAADMAADMAADMDCLAYIKAJoFEHcjzvNuBH7H7zAAAzAAAzAAA5oBggqCCoIKGIABGIABGIABGIABGJjFAEEFAM0CSEeo7HPHAgZgAAZgAAZgAAbOkwGCCoIKggoYgAEYgAEYgAEYgAEYmMUAQQUAzQKIuxHneTcCv+N3GIABGIABGIABzQBBBUEFQQUMwAAMwAAMwAAMwAAMzGLg/wMvLriTA7NO5AAAAABJRU5ErkJggg==)"
      ]
    },
    {
      "cell_type": "markdown",
      "metadata": {
        "id": "7nUVe7AOsiJo"
      },
      "source": [
        "Ejemplo de ejecución de script:  \n",
        "1) Creamos un archivo llamado \"ejemplo1.py\":   \n",
        "a=12  \n",
        "b=13  \n",
        "a+b  \n",
        "print(a+b)  \n",
        "\n"
      ]
    },
    {
      "cell_type": "markdown",
      "metadata": {
        "id": "xz7r5IW0yGMH"
      },
      "source": [
        "![image.png](data:image/png;base64,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)"
      ]
    },
    {
      "cell_type": "markdown",
      "metadata": {
        "id": "2zKR-RiXy37g"
      },
      "source": [
        "2) Abrimos una ventana de comandos y ejecutamos python pasandole como parámetro el nombre del script:  \n",
        "python %temp%\\ejemplo1.py  "
      ]
    },
    {
      "cell_type": "markdown",
      "metadata": {
        "id": "jMXghwUFyI64"
      },
      "source": [
        "![image.png](data:image/png;base64,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)"
      ]
    },
    {
      "cell_type": "markdown",
      "metadata": {
        "id": "hLxNqzIozE1n"
      },
      "source": [
        "Podemos comprobar que ha ejecutado todas las intrucciones y mostrado el resultado."
      ]
    },
    {
      "cell_type": "markdown",
      "metadata": {
        "id": "eW4Gv4p4rBFp"
      },
      "source": [
        "# 5. ¿Qué son los módulos Python? Nombra algunos de los módulos incorporados comúnmente utilizados en Python? \n"
      ]
    },
    {
      "cell_type": "markdown",
      "metadata": {
        "id": "zkaj6FfEu1Aw"
      },
      "source": [
        "Un módulo o module en Python es un fichero . py que alberga un conjunto de funciones, variables o clases y que puede ser usado por otros módulos. Nos permiten reutilizar código y organizarlo mejor en namespaces.  \n",
        "  \n",
        "\n",
        "Las librerías estandar de python son: Math y random, entre otras."
      ]
    },
    {
      "cell_type": "markdown",
      "metadata": {
        "id": "3KMWbXbI0M9g"
      },
      "source": [
        "Módulos más utilizados:  \n",
        "1) Librerías de Python para Visualización  \n",
        "- Matplotlib  \n",
        "- Seaborn  \n",
        "- Bokeh  \n",
        "\n",
        "2) Librerías de Python para Cálculo Numérico y Análisis de Datos  \n",
        "- NumPy  \n",
        "- SciPy  \n",
        "- Pandas  \n",
        "- Numba  \n",
        "\n",
        "3) Librerías de Python para Machine Learning\n",
        "- scikit-learn  \n",
        "\n",
        "4) Librerías de Python para Deep Learning  \n",
        "- TensorFlow  \n",
        "- Keras  \n",
        "- PyTorch  \n",
        "\n",
        "5) Librerías de Python para IA explicable  \n",
        "- SHAP  \n",
        "\n",
        "6) Librerías de Python para Procesamiento de Lenguaje - Natural  \n",
        "- NLTK: Natural Language Toolkit  \n",
        "- gensim  \n",
        "- spaCy  "
      ]
    },
    {
      "cell_type": "markdown",
      "metadata": {
        "id": "c8OLXAj7rC-J"
      },
      "source": [
        "# 6. ¿Cuáles son las variables locales y globales en Python? \n"
      ]
    },
    {
      "cell_type": "markdown",
      "metadata": {
        "id": "Oz49vP3m6Ow0"
      },
      "source": [
        "Los programas de Python tienen dos ámbitos: global y local. Una variable es una variable global si su valor es accesible y modificable en todo su programa. Las variables globales tienen un alcance global. Una variable que se define dentro de la definición de una función es una variable local. La vida útil de una variable se refiere a la duración de su existencia. Se crea la variable local y es destruido cada vez que se ejecuta la función, y no se puede acceder a ella mediante ningún código externo de la definición de la función. Las variables locales dentro de una definición de función tienen alcance local y existen mientras la función se esté ejecutando.\n",
        "\n",
        "Es posible acceder a variables globales desde dentro de una función, siempre que no haya definió una variable local con el mismo nombre. Una variable local puede tener el mismo nombre como una variable global, pero son totalmente diferentes, por lo que cambiar el valor de la variable no tiene ningún efecto sobre la variable global. Solo la variable local tiene significado dentro la función en la que se define."
      ]
    },
    {
      "cell_type": "code",
      "metadata": {
        "colab": {
          "base_uri": "https://localhost:8080/"
        },
        "id": "U9L9ENMb3udL",
        "outputId": "a89f27ae-8b58-47cd-d3b7-bd6c173ab498"
      },
      "source": [
        "test_variable = 5\n",
        "def outer_function():\n",
        "  test_variable = 60\n",
        "\n",
        "  def inner_function():\n",
        "    test_variable = 100\n",
        "    print(f\"El valor de la variable local es {test_variable} y muestra tener alcance local para la función interna\")\n",
        "\n",
        "  inner_function()\n",
        "  print(f\"El valor de la variable local es {test_variable} y muestra tener alcance local para la función externa \")\n",
        "\n",
        "outer_function()\n",
        "print(f\"Valor de variable global de {test_variable} se visualiza \")"
      ],
      "execution_count": 1,
      "outputs": [
        {
          "output_type": "stream",
          "name": "stdout",
          "text": [
            "El valor de la variable local es 100 y muestra tener alcance local para la función interna\n",
            "El valor de la variable local es 60 y muestra tener alcance local para la función externa \n",
            "Valor de variable global de 5 se visualiza \n"
          ]
        }
      ]
    },
    {
      "cell_type": "markdown",
      "metadata": {
        "id": "WZm71BQsrE_h"
      },
      "source": [
        "7. ¿Es Python sensible a las mayúsculas y minúsculas? \n"
      ]
    },
    {
      "cell_type": "markdown",
      "metadata": {
        "id": "zvWQ8NJXrHKR"
      },
      "source": [
        "8. ¿Se requiere identación (indentation) en Python? \n"
      ]
    },
    {
      "cell_type": "markdown",
      "metadata": {
        "id": "mNNJfQ7a0KY2"
      },
      "source": [
        ""
      ]
    },
    {
      "cell_type": "markdown",
      "metadata": {
        "id": "myX5y6o9rJEx"
      },
      "source": [
        "9. ¿Que son las funciones de Python? \n"
      ]
    },
    {
      "cell_type": "markdown",
      "metadata": {
        "id": "u0zj1VgSrK8i"
      },
      "source": [
        "10. ¿Qué es __init__? \n"
      ]
    },
    {
      "cell_type": "code",
      "metadata": {
        "id": "c7gWXbM-qIOL"
      },
      "source": [
        ""
      ],
      "execution_count": null,
      "outputs": []
    },
    {
      "cell_type": "markdown",
      "metadata": {
        "id": "OcfUhOC9rM35"
      },
      "source": [
        "11. ¿Qué es una función lambda? \n"
      ]
    },
    {
      "cell_type": "markdown",
      "metadata": {
        "id": "vshB1dnhrO2J"
      },
      "source": [
        "12. ¿Qué es el Self en Python? \n"
      ]
    },
    {
      "cell_type": "markdown",
      "metadata": {
        "id": "_btkkUhyrQnx"
      },
      "source": [
        "13. ¿Cómo funciona break, continue y pass? \n"
      ]
    },
    {
      "cell_type": "markdown",
      "metadata": {
        "id": "FCU8yk8lrSXK"
      },
      "source": [
        "14. ¿Cómo se pueden aleatorizar los ítems de una lista existente en Python? \n"
      ]
    },
    {
      "cell_type": "markdown",
      "metadata": {
        "id": "t4wIKEZirT95"
      },
      "source": [
        "15. ¿Qué son los iteradores en Python? \n"
      ]
    },
    {
      "cell_type": "markdown",
      "metadata": {
        "id": "XZ29q70irVkZ"
      },
      "source": [
        "16. ¿Cómo puedes generar números aleatorios en Python? \n"
      ]
    },
    {
      "cell_type": "markdown",
      "metadata": {
        "id": "QbbYa7abrXbR"
      },
      "source": [
        "17. ¿Cómo se escriben los comentarios en Python? \n"
      ]
    },
    {
      "cell_type": "markdown",
      "metadata": {
        "id": "6v76JvhPrZDR"
      },
      "source": [
        "18. ¿Qué son los generadores en Python? \n"
      ]
    },
    {
      "cell_type": "markdown",
      "metadata": {
        "id": "GvbKl_rjrbYR"
      },
      "source": [
        "19. ¿Cuál es el uso de las funciones help() y dir() en Python? \n"
      ]
    },
    {
      "cell_type": "markdown",
      "metadata": {
        "id": "yLjQXlbKrdDJ"
      },
      "source": [
        "20. ¿Qué es un diccionario en Python? \n"
      ]
    },
    {
      "cell_type": "markdown",
      "metadata": {
        "id": "PCITDEzSresn"
      },
      "source": [
        "21. ¿Qué significa esto? *args, **kwargs? ¿Y por qué lo usaríamos? \n"
      ]
    },
    {
      "cell_type": "markdown",
      "metadata": {
        "id": "6yEsuhbJrgWK"
      },
      "source": [
        "22. ¿Qué hace len()? \n"
      ]
    },
    {
      "cell_type": "markdown",
      "metadata": {
        "id": "lLesm-fpriIp"
      },
      "source": [
        "23. ¿Qué son los índices negativos y por qué se utilizan? \n"
      ]
    },
    {
      "cell_type": "markdown",
      "metadata": {
        "id": "cmpl8TQOttTi"
      },
      "source": [
        "24. ¿Cuáles son los tipos de datos en Python? \n"
      ]
    },
    {
      "cell_type": "markdown",
      "metadata": {
        "id": "2uxGrdo2tu-J"
      },
      "source": [
        "25. ¿Cómo importar módulos en Python? "
      ]
    }
  ]
}